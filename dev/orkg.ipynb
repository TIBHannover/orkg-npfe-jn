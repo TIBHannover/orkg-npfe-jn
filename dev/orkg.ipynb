{
 "cells": [
  {
   "cell_type": "code",
   "execution_count": 1,
   "metadata": {},
   "outputs": [],
   "source": [
    "from utils import save_dataset, save_paper\n",
    "import pandas as pd\n",
    "from rdflib import Graph\n",
    "from orkg import ORKG"
   ]
  },
  {
   "cell_type": "code",
   "execution_count": 2,
   "metadata": {},
   "outputs": [
    {
     "name": "stdout",
     "output_type": "stream",
     "text": [
      "R28352\n",
      "R28393\n"
     ]
    }
   ],
   "source": [
    "dataset = pd.read_csv('Monthly.csv')\n",
    "monthly_resource = save_dataset(dataset, 'Monthly overview', dimensions=['Month'])\n",
    "\n",
    "dataset = pd.read_csv('Summary.csv')\n",
    "summary_resource = save_dataset(dataset, 'Summary', dimensions=['Statistics'])\n",
    "\n",
    "print(monthly_resource)\n",
    "print(summary_resource)"
   ]
  },
  {
   "cell_type": "code",
   "execution_count": 5,
   "metadata": {},
   "outputs": [
    {
     "data": {
      "text/plain": [
       "<Graph identifier=N170d0efc917846479f5660387873ff5e (<class 'rdflib.graph.Graph'>)>"
      ]
     },
     "execution_count": 5,
     "metadata": {},
     "output_type": "execute_result"
    }
   ],
   "source": [
    "g = Graph()\n",
    "g.parse('article.html', format='rdfa')"
   ]
  },
  {
   "cell_type": "code",
   "execution_count": 6,
   "metadata": {},
   "outputs": [
    {
     "data": {
      "text/plain": [
       "(Success) {'id': 'R28427', 'label': 'Nucleation and growth of new particles in Po Valley, Italy', 'created_at': '2019-11-11T09:34:31.292Z', 'classes': ['Paper'], 'shared': 0}"
      ]
     },
     "execution_count": 6,
     "metadata": {},
     "output_type": "execute_result"
    }
   ],
   "source": [
    "save_paper(g)"
   ]
  }
 ],
 "metadata": {
  "kernelspec": {
   "display_name": "Python 3",
   "language": "python",
   "name": "python3"
  },
  "language_info": {
   "codemirror_mode": {
    "name": "ipython",
    "version": 3
   },
   "file_extension": ".py",
   "mimetype": "text/x-python",
   "name": "python",
   "nbconvert_exporter": "python",
   "pygments_lexer": "ipython3",
   "version": "3.6.8"
  }
 },
 "nbformat": 4,
 "nbformat_minor": 4
}
